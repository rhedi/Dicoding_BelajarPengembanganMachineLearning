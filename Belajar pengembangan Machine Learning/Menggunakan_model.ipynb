{
 "cells": [
  {
   "cell_type": "markdown",
   "id": "c99f9f9a-ae28-4539-a8a4-7624d64140e0",
   "metadata": {},
   "source": [
    "import tensorflow as tf\n",
    "import numpy as np\n",
    "from tensorflow import keras \n",
    "\n",
    "xs = np.array([1.0,  2.0, 3.0, 4.0, 5.0, 6.0], dtype=float)\n",
    "ys = np.array([4.0, 6.0, 8.0, 10.0, 12.0, 14.0], dtype=float)\n",
    "# model = tf.keras.Sequential([keras.layers.Dense(units=1, input_shape=[1])])\n",
    "model = tf.keras.Sequential([\n",
    "                             keras.layers.Dense(units=1, input_shape=[1]),\n",
    "                             keras.layers.Dense(units=8),\n",
    "                             keras.layers.Dense(units=1)])\n",
    "model.compile(optimizer='sgd', loss='mean_squared_error')\n",
    "model.fit(xs, ys, epochs=150)"
   ]
  },
  {
   "cell_type": "code",
   "execution_count": 16,
   "id": "7e81aae4-bf1d-44cc-9dd7-924d260ac768",
   "metadata": {},
   "outputs": [
    {
     "name": "stdout",
     "output_type": "stream",
     "text": [
      "1/1 [==============================] - 0s 31ms/step\n",
      "[[16.154837]]\n"
     ]
    }
   ],
   "source": [
    "print(model.predict([10.0]))"
   ]
  },
  {
   "cell_type": "markdown",
   "id": "775f77d9-69d6-40a8-a5be-735ebdfe2fd3",
   "metadata": {},
   "source": [
    "# Membuat Model untuk Klasifikasi Dua Kelas\n",
    "Setelah pada submodul sebelumnya kita membahas bagaimana mengembangkan model jst sequential untuk masalah regresi sederhana, kita akan lanjut mengembangkan model jst untuk klasifikasi biner. \n",
    "\n",
    "Nah, pada submodul ini kita akan coba melatih model untuk mengklasifikasikan apakah sebuah buah merupakan jeruk atau anggur. Untuk datasetnya bisa Anda unduh di tautan berikut. Sudah tidak sabar bukan. Setelah datanya Anda unduh, jangan lupa buka Colaboratory dan unggah datasetnya ke dalam Colab. Jika Anda lupa caranya, bisa lihat kembali tutorial di modul pertama Belajar Machine Learning untuk Pemula ya.\n",
    "\n",
    "Pada cell pertama di Colab apa lagi kalau bukan impor library yang harus kita lakukan. Karena dataset kita bertipe csv, kita akan menggunakan pandas untuk merubah dataset menjadi sebuah dataframe. Untuk melakukannya, gunakan fungsi read_csv()."
   ]
  },
  {
   "cell_type": "code",
   "execution_count": 31,
   "id": "e8155de8-4c18-41ba-9398-a6827d86eed3",
   "metadata": {},
   "outputs": [
    {
     "name": "stdout",
     "output_type": "stream",
     "text": [
      "/Users/rhedipratama/Decoding_ML\n"
     ]
    }
   ],
   "source": [
    "import pandas as pd\n",
    "import os\n",
    "working_d = os.getcwd()\n",
    "#print(working_d)\n",
    "path = \"/Users/rhedipratama/Decoding_ML/citrus.csv\"\n",
    "df = pd.read_csv(path)"
   ]
  },
  {
   "cell_type": "markdown",
   "id": "fcdf3160-f781-4ec2-b95a-cd7bac456bf4",
   "metadata": {},
   "source": [
    "Kemudian untuk melihat overview dari dataset kita bisa memanggil fungsi info() pada dataframe. Dapat kita lihat di bawah bahwa pada dataset terdapat 6 buah kolom dengan 1 kolom memiliki value bertipe ‘object’, dan 5 bertipe numerik."
   ]
  },
  {
   "cell_type": "code",
   "execution_count": 32,
   "id": "7e56fbca-5fee-4e19-9d37-2e51b174aed0",
   "metadata": {},
   "outputs": [
    {
     "name": "stdout",
     "output_type": "stream",
     "text": [
      "<class 'pandas.core.frame.DataFrame'>\n",
      "RangeIndex: 10000 entries, 0 to 9999\n",
      "Data columns (total 6 columns):\n",
      " #   Column    Non-Null Count  Dtype  \n",
      "---  ------    --------------  -----  \n",
      " 0   name      10000 non-null  object \n",
      " 1   diameter  10000 non-null  float64\n",
      " 2   weight    10000 non-null  float64\n",
      " 3   red       10000 non-null  int64  \n",
      " 4   green     10000 non-null  int64  \n",
      " 5   blue      10000 non-null  int64  \n",
      "dtypes: float64(2), int64(3), object(1)\n",
      "memory usage: 468.9+ KB\n"
     ]
    }
   ],
   "source": [
    "df.info()"
   ]
  },
  {
   "cell_type": "markdown",
   "id": "017d9eb7-4b10-4631-a6ad-194974f74b3e",
   "metadata": {},
   "source": [
    "Selanjutnya gunakan fungsi head() untuk menampilkan dataframe kita. Pada output dari cell di bawah, label dari dataset adalah kolom pertama yang berisi string ‘orange’ dan ‘grapefruit’."
   ]
  },
  {
   "cell_type": "code",
   "execution_count": 42,
   "id": "0569c905-7bfd-413a-85ef-5ee164a8b7fd",
   "metadata": {},
   "outputs": [
    {
     "data": {
      "text/html": [
       "<div>\n",
       "<style scoped>\n",
       "    .dataframe tbody tr th:only-of-type {\n",
       "        vertical-align: middle;\n",
       "    }\n",
       "\n",
       "    .dataframe tbody tr th {\n",
       "        vertical-align: top;\n",
       "    }\n",
       "\n",
       "    .dataframe thead th {\n",
       "        text-align: right;\n",
       "    }\n",
       "</style>\n",
       "<table border=\"1\" class=\"dataframe\">\n",
       "  <thead>\n",
       "    <tr style=\"text-align: right;\">\n",
       "      <th></th>\n",
       "      <th>name</th>\n",
       "      <th>diameter</th>\n",
       "      <th>weight</th>\n",
       "      <th>red</th>\n",
       "      <th>green</th>\n",
       "      <th>blue</th>\n",
       "    </tr>\n",
       "  </thead>\n",
       "  <tbody>\n",
       "    <tr>\n",
       "      <th>0</th>\n",
       "      <td>0</td>\n",
       "      <td>2.96</td>\n",
       "      <td>86.76</td>\n",
       "      <td>172</td>\n",
       "      <td>85</td>\n",
       "      <td>2</td>\n",
       "    </tr>\n",
       "    <tr>\n",
       "      <th>1</th>\n",
       "      <td>0</td>\n",
       "      <td>3.91</td>\n",
       "      <td>88.05</td>\n",
       "      <td>166</td>\n",
       "      <td>78</td>\n",
       "      <td>3</td>\n",
       "    </tr>\n",
       "    <tr>\n",
       "      <th>2</th>\n",
       "      <td>0</td>\n",
       "      <td>4.42</td>\n",
       "      <td>95.17</td>\n",
       "      <td>156</td>\n",
       "      <td>81</td>\n",
       "      <td>2</td>\n",
       "    </tr>\n",
       "    <tr>\n",
       "      <th>3</th>\n",
       "      <td>0</td>\n",
       "      <td>4.47</td>\n",
       "      <td>95.60</td>\n",
       "      <td>163</td>\n",
       "      <td>81</td>\n",
       "      <td>4</td>\n",
       "    </tr>\n",
       "    <tr>\n",
       "      <th>4</th>\n",
       "      <td>0</td>\n",
       "      <td>4.48</td>\n",
       "      <td>95.76</td>\n",
       "      <td>161</td>\n",
       "      <td>72</td>\n",
       "      <td>9</td>\n",
       "    </tr>\n",
       "    <tr>\n",
       "      <th>...</th>\n",
       "      <td>...</td>\n",
       "      <td>...</td>\n",
       "      <td>...</td>\n",
       "      <td>...</td>\n",
       "      <td>...</td>\n",
       "      <td>...</td>\n",
       "    </tr>\n",
       "    <tr>\n",
       "      <th>9995</th>\n",
       "      <td>1</td>\n",
       "      <td>15.35</td>\n",
       "      <td>253.89</td>\n",
       "      <td>149</td>\n",
       "      <td>77</td>\n",
       "      <td>20</td>\n",
       "    </tr>\n",
       "    <tr>\n",
       "      <th>9996</th>\n",
       "      <td>1</td>\n",
       "      <td>15.41</td>\n",
       "      <td>254.67</td>\n",
       "      <td>148</td>\n",
       "      <td>68</td>\n",
       "      <td>7</td>\n",
       "    </tr>\n",
       "    <tr>\n",
       "      <th>9997</th>\n",
       "      <td>1</td>\n",
       "      <td>15.59</td>\n",
       "      <td>256.50</td>\n",
       "      <td>168</td>\n",
       "      <td>82</td>\n",
       "      <td>20</td>\n",
       "    </tr>\n",
       "    <tr>\n",
       "      <th>9998</th>\n",
       "      <td>1</td>\n",
       "      <td>15.92</td>\n",
       "      <td>260.14</td>\n",
       "      <td>142</td>\n",
       "      <td>72</td>\n",
       "      <td>11</td>\n",
       "    </tr>\n",
       "    <tr>\n",
       "      <th>9999</th>\n",
       "      <td>1</td>\n",
       "      <td>16.45</td>\n",
       "      <td>261.51</td>\n",
       "      <td>152</td>\n",
       "      <td>74</td>\n",
       "      <td>2</td>\n",
       "    </tr>\n",
       "  </tbody>\n",
       "</table>\n",
       "<p>10000 rows × 6 columns</p>\n",
       "</div>"
      ],
      "text/plain": [
       "     name  diameter  weight  red  green  blue\n",
       "0       0      2.96   86.76  172     85     2\n",
       "1       0      3.91   88.05  166     78     3\n",
       "2       0      4.42   95.17  156     81     2\n",
       "3       0      4.47   95.60  163     81     4\n",
       "4       0      4.48   95.76  161     72     9\n",
       "...   ...       ...     ...  ...    ...   ...\n",
       "9995    1     15.35  253.89  149     77    20\n",
       "9996    1     15.41  254.67  148     68     7\n",
       "9997    1     15.59  256.50  168     82    20\n",
       "9998    1     15.92  260.14  142     72    11\n",
       "9999    1     16.45  261.51  152     74     2\n",
       "\n",
       "[10000 rows x 6 columns]"
      ]
     },
     "execution_count": 42,
     "metadata": {},
     "output_type": "execute_result"
    }
   ],
   "source": [
    "df.head(10000)"
   ]
  },
  {
   "cell_type": "markdown",
   "id": "92d7d291-0b8c-43f5-9723-f1f5cc1e3b2f",
   "metadata": {},
   "source": [
    "Nah, masih ingat bukan kalau sebuah jst tidak bisa memproses string? Karena itulah kita harus mengubah nilai-nilai pada kolom label menjadi numerik terlebih dahulu agar bisa diproses oleh jst.\n",
    "\n",
    "Jalankan kode di bawah untuk mengubah nilai-nilai pada kolom name menjadi bilangan numerik. Untuk nilai yang berisi string ‘orange’ akan diubah menjadi 0 dan nilai yang berisi string ‘grapefruit’ akan diubah menjadi 1."
   ]
  },
  {
   "cell_type": "code",
   "execution_count": 38,
   "id": "6835dff0-234a-4509-bc66-2f920f54514b",
   "metadata": {},
   "outputs": [
    {
     "name": "stderr",
     "output_type": "stream",
     "text": [
      "<ipython-input-38-af9299696de1>:1: SettingWithCopyWarning: \n",
      "A value is trying to be set on a copy of a slice from a DataFrame\n",
      "\n",
      "See the caveats in the documentation: https://pandas.pydata.org/pandas-docs/stable/user_guide/indexing.html#returning-a-view-versus-a-copy\n",
      "  df.name[df.name == 'orange'] = 0\n",
      "<ipython-input-38-af9299696de1>:2: SettingWithCopyWarning: \n",
      "A value is trying to be set on a copy of a slice from a DataFrame\n",
      "\n",
      "See the caveats in the documentation: https://pandas.pydata.org/pandas-docs/stable/user_guide/indexing.html#returning-a-view-versus-a-copy\n",
      "  df.name[df.name == 'grapefruit'] = 1\n"
     ]
    }
   ],
   "source": [
    "df.name[df.name == 'orange'] = 0\n",
    "df.name[df.name == 'grapefruit'] = 1"
   ]
  },
  {
   "cell_type": "markdown",
   "id": "9d23cebf-0852-4e8d-ab0a-ee55aa7e7c2c",
   "metadata": {},
   "source": [
    "Sampai pada tahap ini model kita belum dapat memproses dataset ini karena dataset kita masih dalam bentuk dataframe. Betul, dataset harus dalam bentuk array agar dapat diproses oleh model. Nah untungnya kita dapat melakukan ini dengan mudah menggunakan atribut values dari dataframe. Values mengembalikan numpy array yang dikonversi dari dataframe."
   ]
  },
  {
   "cell_type": "code",
   "execution_count": 43,
   "id": "282b509b-b87a-4e2a-bbc2-df7648b272a4",
   "metadata": {},
   "outputs": [],
   "source": [
    "dataset = df.values"
   ]
  },
  {
   "cell_type": "markdown",
   "id": "3720bc0f-c2b2-4952-85c0-67feb1296819",
   "metadata": {},
   "source": [
    "Untuk melihat dataframe yang telah diubah menjadi array, Anda dapat mengeksekusi objek dataset yang menampung array tersebut."
   ]
  },
  {
   "cell_type": "code",
   "execution_count": 44,
   "id": "ca2c2400-a0bf-4d50-8d39-8fc172143f66",
   "metadata": {},
   "outputs": [
    {
     "data": {
      "text/plain": [
       "array([[0, 2.96, 86.76, 172, 85, 2],\n",
       "       [0, 3.91, 88.05, 166, 78, 3],\n",
       "       [0, 4.42, 95.17, 156, 81, 2],\n",
       "       ...,\n",
       "       [1, 15.59, 256.5, 168, 82, 20],\n",
       "       [1, 15.92, 260.14, 142, 72, 11],\n",
       "       [1, 16.45, 261.51, 152, 74, 2]], dtype=object)"
      ]
     },
     "execution_count": 44,
     "metadata": {},
     "output_type": "execute_result"
    }
   ],
   "source": [
    "dataset"
   ]
  },
  {
   "cell_type": "markdown",
   "id": "4d0f86ec-0113-4a1b-a73f-edba3f16466c",
   "metadata": {},
   "source": [
    "Kemudian kita perlu memisahkan antara atribut dan label pada dataset. Dari eksplorasi data kita sebelumnya, dapat diketahui bahwa 5 kolom terakhir adalah kolom atribut. Untuk memilih 5 kolom terakhir jalankan kode di bawah. "
   ]
  },
  {
   "cell_type": "code",
   "execution_count": 45,
   "id": "b1db6e68-1a90-4936-ad88-06b7ace51165",
   "metadata": {},
   "outputs": [],
   "source": [
    "# pilih 5 kolom terakhir sebagai atribut\n",
    "X = dataset[:,1:6]\n",
    "# bilangan sebelum koma untuk memilih baris pada dataframe\n",
    "# bilangan setelah koma untuk memilih kolom pada dataframe"
   ]
  },
  {
   "cell_type": "markdown",
   "id": "7baa4bc0-4da3-4070-8449-aabdc0e22960",
   "metadata": {},
   "source": [
    "Jangan lupa untuk memisahkan label dari dataset. Pada dataset kita, label terdapat pada kolom pertama. Jalankan kode di bawah untuk membuat sebuah array numpy yang hanya berisi label kita."
   ]
  },
  {
   "cell_type": "code",
   "execution_count": 46,
   "id": "3366ad10-f0e6-412a-bdc1-db788a9fc13c",
   "metadata": {},
   "outputs": [],
   "source": [
    "y = dataset[:,0]"
   ]
  },
  {
   "cell_type": "markdown",
   "id": "c75ef716-ecff-44cc-ba2a-a6201cdec29d",
   "metadata": {},
   "source": [
    "Selanjutnya ada tahap yang sangat penting dilakukan agar jst bisa mempelajari dataset dengan baik, apalagi kalau bukan normalisasi. Kita bisa menggunakan fungsi fit_transform() dari sebuah objek MinMaxScaler dari library preprocessing SKLearn untuk menormalisasi data kita.\n",
    "\n"
   ]
  },
  {
   "cell_type": "code",
   "execution_count": 48,
   "id": "c61f806a-f307-41b7-bcb6-8d5de81ec8de",
   "metadata": {},
   "outputs": [
    {
     "data": {
      "text/plain": [
       "array([[0.        , 0.        , 0.74025974, 0.63529412, 0.        ],\n",
       "       [0.07042254, 0.00738197, 0.66233766, 0.55294118, 0.01851852],\n",
       "       [0.10822832, 0.04812589, 0.53246753, 0.58823529, 0.        ],\n",
       "       ...,\n",
       "       [0.93624907, 0.97133047, 0.68831169, 0.6       , 0.33333333],\n",
       "       [0.96071164, 0.99216023, 0.35064935, 0.48235294, 0.16666667],\n",
       "       [1.        , 1.        , 0.48051948, 0.50588235, 0.        ]])"
      ]
     },
     "execution_count": 48,
     "metadata": {},
     "output_type": "execute_result"
    }
   ],
   "source": [
    "# Normalization \n",
    "from sklearn import preprocessing\n",
    "min_max_scaler = preprocessing.MinMaxScaler()\n",
    "x_scale = min_max_scaler.fit_transform(X)\n",
    "x_scale"
   ]
  },
  {
   "cell_type": "markdown",
   "id": "f8a941aa-8463-4982-97f0-411d595e4b1c",
   "metadata": {},
   "source": [
    "Setelah kita memiliki atribut dan label yang terpisah, kita juga akan memisahkan kembali data kita menjadi data latih dan data uji untuk mengevaluasi kinerja model kita. Fungsi train_test_split dapat membantu kita untuk melakukan hal ini dengan mudah. Pada latihan ini kita akan menggunakan 30% dari seluruh data sebagai data uji."
   ]
  },
  {
   "cell_type": "code",
   "execution_count": 49,
   "id": "50dfc990-9c5f-4fef-a31a-9aae88321b4b",
   "metadata": {},
   "outputs": [],
   "source": [
    "# pisahkan data training dan testing\n",
    "from sklearn.model_selection import train_test_split\n",
    "x_train, x_test, y_train, y_test = train_test_split(x_scale, y, test_size=0.3)"
   ]
  },
  {
   "cell_type": "markdown",
   "id": "c2f27205-75cb-44c4-a1c3-7a0dddf71898",
   "metadata": {},
   "source": [
    "Dataset telah dipisahkan ke dalam training dan test set.  Karena tadi kita mengubah nilai-nilai pada kolom name menjadi bilangan numerik, yang artinya kita mengubah label menjadi tipe data boolean, maka kita perlu mengubah tipe data tersebut menjadi float32 dengan cara berikut."
   ]
  },
  {
   "cell_type": "code",
   "execution_count": 50,
   "id": "41612eb0-c2d8-4688-a241-089fa413c03c",
   "metadata": {},
   "outputs": [],
   "source": [
    "import numpy as np \n",
    "\n",
    "y_train = y_train.astype(np.float32)\n",
    "y_test = y_test.astype(np.float32)"
   ]
  },
  {
   "cell_type": "markdown",
   "id": "dbb38eb9-6caf-40f6-a04c-ab1b44d08139",
   "metadata": {},
   "source": [
    "Nah, tahap memproses data kita telah selesai. Sekarang kita mulai membangun model jst kita. Impor library di bawah dan lanjutkan ke tahap berikutnya."
   ]
  },
  {
   "cell_type": "code",
   "execution_count": 51,
   "id": "a03ac95b-449f-4ab4-9dcd-b7f16565b661",
   "metadata": {},
   "outputs": [],
   "source": [
    "from keras.models import Sequential\n",
    "from keras.layers import Dense\n"
   ]
  },
  {
   "cell_type": "markdown",
   "id": "8bc62947-8664-4134-b339-31278a8c68d8",
   "metadata": {},
   "source": [
    "Untuk model yang kita kembangkan adalah model sequential yang memiliki 3 buah layer seperti di bawah. Activation function pada 2 layer pertama yang dapat digunakan adalah relu untuk latihan ini. Anda dapat bereksplorasi menggunakan activation function lain. Untuk layer terakhir, isi parameter unit isi dengan 1 di mana output dari jst kita merupakan satu buah bilangan numerik. Activation function pada layer terakhir dipilih sigmoid karena sigmoid memetakan probabilitas dari 0 sampai 1. Sigmoid sangat cocok digunakan pada masalah klasifikasi biner."
   ]
  },
  {
   "cell_type": "code",
   "execution_count": 52,
   "id": "ad9caf5e-6f13-47d4-85e5-01a882a4a0c7",
   "metadata": {},
   "outputs": [],
   "source": [
    "model = Sequential([\n",
    "    Dense(32, activation='relu', input_shape=(5,)),\n",
    "    Dense(32, activation='relu'),\n",
    "    Dense(1, activation='sigmoid'),\n",
    "])"
   ]
  },
  {
   "cell_type": "markdown",
   "id": "4b81f779-e942-44d0-8e16-b3b4ba3e42df",
   "metadata": {},
   "source": [
    "Kemudian setelah arsitektur dari jst dibentuk, kita perlu menentukan optimizer dan loss function dari model kita. Untuk optimizer kita akan menggunakan stochastic gradient descent (sgd) yang merupakan optimizer yang sangat umum dan cocok dipakai pada dataset yang berukuran kecil. Dan untuk loss yang sesuai adalah ‘binary_crossentropy’ karena masalah pada latihan kita kali ini adalah masalah 2 kelas (biner). \n",
    "\n",
    "Selain itu jika kita ingin menampilkan akurasi pada setiap proses pelatihan model kita dapat menambahkan parameter metrics dan mengisinya dengan string ‘accuracy’."
   ]
  },
  {
   "cell_type": "code",
   "execution_count": 53,
   "id": "a34ead39-842b-4bdf-97a9-f3798b8ffab7",
   "metadata": {},
   "outputs": [],
   "source": [
    "model.compile(optimizer='sgd',\n",
    "              loss='binary_crossentropy',\n",
    "              metrics=['accuracy'])"
   ]
  },
  {
   "cell_type": "markdown",
   "id": "8e6a838c-f8f7-4208-9e2b-594895f5bddf",
   "metadata": {},
   "source": [
    "Ketika semua sudah selesai, kita dapat memulai pelatihan model kita dengan menjalankan kode di bawah. Berapa akurasi yang model Anda dapatkan?"
   ]
  },
  {
   "cell_type": "markdown",
   "id": "62cda726-6ea4-4b2e-9c52-1090aaa1344d",
   "metadata": {},
   "source": []
  },
  {
   "cell_type": "code",
   "execution_count": 54,
   "id": "9ecc01a7-427c-4d19-9fc4-0cb79826b517",
   "metadata": {},
   "outputs": [
    {
     "name": "stdout",
     "output_type": "stream",
     "text": [
      "Epoch 1/100\n",
      "219/219 [==============================] - 1s 1ms/step - loss: 0.6638 - accuracy: 0.8460\n",
      "Epoch 2/100\n",
      "219/219 [==============================] - 0s 1ms/step - loss: 0.6179 - accuracy: 0.9197\n",
      "Epoch 3/100\n",
      "219/219 [==============================] - 0s 990us/step - loss: 0.5580 - accuracy: 0.9241\n",
      "Epoch 4/100\n",
      "219/219 [==============================] - 0s 1ms/step - loss: 0.4752 - accuracy: 0.9277\n",
      "Epoch 5/100\n",
      "219/219 [==============================] - 0s 987us/step - loss: 0.3832 - accuracy: 0.9271\n",
      "Epoch 6/100\n",
      "219/219 [==============================] - 0s 1ms/step - loss: 0.3062 - accuracy: 0.9267\n",
      "Epoch 7/100\n",
      "219/219 [==============================] - 0s 997us/step - loss: 0.2559 - accuracy: 0.9279\n",
      "Epoch 8/100\n",
      "219/219 [==============================] - 0s 979us/step - loss: 0.2263 - accuracy: 0.9266\n",
      "Epoch 9/100\n",
      "219/219 [==============================] - 0s 982us/step - loss: 0.2090 - accuracy: 0.9269\n",
      "Epoch 10/100\n",
      "219/219 [==============================] - 0s 985us/step - loss: 0.1988 - accuracy: 0.9279\n",
      "Epoch 11/100\n",
      "219/219 [==============================] - 0s 990us/step - loss: 0.1920 - accuracy: 0.9271\n",
      "Epoch 12/100\n",
      "219/219 [==============================] - 0s 988us/step - loss: 0.1877 - accuracy: 0.9264\n",
      "Epoch 13/100\n",
      "219/219 [==============================] - 0s 989us/step - loss: 0.1850 - accuracy: 0.9271\n",
      "Epoch 14/100\n",
      "219/219 [==============================] - 0s 985us/step - loss: 0.1831 - accuracy: 0.9279\n",
      "Epoch 15/100\n",
      "219/219 [==============================] - 0s 990us/step - loss: 0.1815 - accuracy: 0.9279\n",
      "Epoch 16/100\n",
      "219/219 [==============================] - 0s 984us/step - loss: 0.1810 - accuracy: 0.9276\n",
      "Epoch 17/100\n",
      "219/219 [==============================] - 0s 998us/step - loss: 0.1801 - accuracy: 0.9280\n",
      "Epoch 18/100\n",
      "219/219 [==============================] - 0s 1ms/step - loss: 0.1799 - accuracy: 0.9276\n",
      "Epoch 19/100\n",
      "219/219 [==============================] - 0s 991us/step - loss: 0.1792 - accuracy: 0.9276\n",
      "Epoch 20/100\n",
      "219/219 [==============================] - 0s 1ms/step - loss: 0.1794 - accuracy: 0.9277\n",
      "Epoch 21/100\n",
      "219/219 [==============================] - 0s 1ms/step - loss: 0.1789 - accuracy: 0.9276\n",
      "Epoch 22/100\n",
      "219/219 [==============================] - 0s 991us/step - loss: 0.1792 - accuracy: 0.9287\n",
      "Epoch 23/100\n",
      "219/219 [==============================] - 0s 1ms/step - loss: 0.1793 - accuracy: 0.9281\n",
      "Epoch 24/100\n",
      "219/219 [==============================] - 0s 1ms/step - loss: 0.1787 - accuracy: 0.9267\n",
      "Epoch 25/100\n",
      "219/219 [==============================] - 0s 1ms/step - loss: 0.1788 - accuracy: 0.9276\n",
      "Epoch 26/100\n",
      "219/219 [==============================] - 0s 1ms/step - loss: 0.1784 - accuracy: 0.9281\n",
      "Epoch 27/100\n",
      "219/219 [==============================] - 0s 1ms/step - loss: 0.1784 - accuracy: 0.9277\n",
      "Epoch 28/100\n",
      "219/219 [==============================] - 0s 1ms/step - loss: 0.1781 - accuracy: 0.9269\n",
      "Epoch 29/100\n",
      "219/219 [==============================] - 0s 1ms/step - loss: 0.1778 - accuracy: 0.9283\n",
      "Epoch 30/100\n",
      "219/219 [==============================] - 0s 1ms/step - loss: 0.1784 - accuracy: 0.9281\n",
      "Epoch 31/100\n",
      "219/219 [==============================] - 0s 1ms/step - loss: 0.1779 - accuracy: 0.9281\n",
      "Epoch 32/100\n",
      "219/219 [==============================] - 0s 1ms/step - loss: 0.1785 - accuracy: 0.9267\n",
      "Epoch 33/100\n",
      "219/219 [==============================] - 0s 1ms/step - loss: 0.1782 - accuracy: 0.9276\n",
      "Epoch 34/100\n",
      "219/219 [==============================] - 0s 1ms/step - loss: 0.1787 - accuracy: 0.9266\n",
      "Epoch 35/100\n",
      "219/219 [==============================] - 0s 1ms/step - loss: 0.1787 - accuracy: 0.9270\n",
      "Epoch 36/100\n",
      "219/219 [==============================] - 0s 1ms/step - loss: 0.1782 - accuracy: 0.9277\n",
      "Epoch 37/100\n",
      "219/219 [==============================] - 0s 1ms/step - loss: 0.1781 - accuracy: 0.9271\n",
      "Epoch 38/100\n",
      "219/219 [==============================] - 0s 1ms/step - loss: 0.1783 - accuracy: 0.9283\n",
      "Epoch 39/100\n",
      "219/219 [==============================] - 0s 1ms/step - loss: 0.1782 - accuracy: 0.9279\n",
      "Epoch 40/100\n",
      "219/219 [==============================] - 0s 1ms/step - loss: 0.1783 - accuracy: 0.9274\n",
      "Epoch 41/100\n",
      "219/219 [==============================] - 0s 1ms/step - loss: 0.1779 - accuracy: 0.9276\n",
      "Epoch 42/100\n",
      "219/219 [==============================] - 0s 984us/step - loss: 0.1784 - accuracy: 0.9279\n",
      "Epoch 43/100\n",
      "219/219 [==============================] - 0s 1ms/step - loss: 0.1782 - accuracy: 0.9274\n",
      "Epoch 44/100\n",
      "219/219 [==============================] - 0s 1ms/step - loss: 0.1780 - accuracy: 0.9271\n",
      "Epoch 45/100\n",
      "219/219 [==============================] - 0s 1ms/step - loss: 0.1780 - accuracy: 0.9277\n",
      "Epoch 46/100\n",
      "219/219 [==============================] - 0s 1ms/step - loss: 0.1782 - accuracy: 0.9276\n",
      "Epoch 47/100\n",
      "219/219 [==============================] - 0s 1ms/step - loss: 0.1779 - accuracy: 0.9267\n",
      "Epoch 48/100\n",
      "219/219 [==============================] - 0s 995us/step - loss: 0.1784 - accuracy: 0.9284\n",
      "Epoch 49/100\n",
      "219/219 [==============================] - 0s 978us/step - loss: 0.1780 - accuracy: 0.9279\n",
      "Epoch 50/100\n",
      "219/219 [==============================] - 0s 986us/step - loss: 0.1780 - accuracy: 0.9277\n",
      "Epoch 51/100\n",
      "219/219 [==============================] - 0s 987us/step - loss: 0.1781 - accuracy: 0.9276\n",
      "Epoch 52/100\n",
      "219/219 [==============================] - 0s 985us/step - loss: 0.1777 - accuracy: 0.9269\n",
      "Epoch 53/100\n",
      "219/219 [==============================] - 0s 982us/step - loss: 0.1778 - accuracy: 0.9273\n",
      "Epoch 54/100\n",
      "219/219 [==============================] - 0s 983us/step - loss: 0.1779 - accuracy: 0.9267\n",
      "Epoch 55/100\n",
      "219/219 [==============================] - 0s 1ms/step - loss: 0.1780 - accuracy: 0.9264\n",
      "Epoch 56/100\n",
      "219/219 [==============================] - 0s 985us/step - loss: 0.1773 - accuracy: 0.9286\n",
      "Epoch 57/100\n",
      "219/219 [==============================] - 0s 993us/step - loss: 0.1779 - accuracy: 0.9289\n",
      "Epoch 58/100\n",
      "219/219 [==============================] - 0s 983us/step - loss: 0.1777 - accuracy: 0.9271\n",
      "Epoch 59/100\n",
      "219/219 [==============================] - 0s 1ms/step - loss: 0.1773 - accuracy: 0.9276\n",
      "Epoch 60/100\n",
      "219/219 [==============================] - 0s 992us/step - loss: 0.1780 - accuracy: 0.9281\n",
      "Epoch 61/100\n",
      "219/219 [==============================] - 0s 985us/step - loss: 0.1783 - accuracy: 0.9277\n",
      "Epoch 62/100\n",
      "219/219 [==============================] - 0s 1ms/step - loss: 0.1778 - accuracy: 0.9271\n",
      "Epoch 63/100\n",
      "219/219 [==============================] - 0s 1ms/step - loss: 0.1778 - accuracy: 0.9279\n",
      "Epoch 64/100\n",
      "219/219 [==============================] - 0s 1ms/step - loss: 0.1778 - accuracy: 0.9271\n",
      "Epoch 65/100\n",
      "219/219 [==============================] - 0s 1ms/step - loss: 0.1775 - accuracy: 0.9276\n",
      "Epoch 66/100\n",
      "219/219 [==============================] - 0s 1ms/step - loss: 0.1779 - accuracy: 0.9281\n",
      "Epoch 67/100\n",
      "219/219 [==============================] - 0s 1ms/step - loss: 0.1774 - accuracy: 0.9280\n",
      "Epoch 68/100\n",
      "219/219 [==============================] - 0s 1ms/step - loss: 0.1771 - accuracy: 0.9270\n",
      "Epoch 69/100\n",
      "219/219 [==============================] - 0s 1ms/step - loss: 0.1776 - accuracy: 0.9280\n",
      "Epoch 70/100\n",
      "219/219 [==============================] - 0s 1ms/step - loss: 0.1778 - accuracy: 0.9279\n",
      "Epoch 71/100\n",
      "219/219 [==============================] - 0s 1ms/step - loss: 0.1773 - accuracy: 0.9287\n",
      "Epoch 72/100\n",
      "219/219 [==============================] - 0s 1ms/step - loss: 0.1774 - accuracy: 0.9273\n",
      "Epoch 73/100\n",
      "219/219 [==============================] - 0s 1ms/step - loss: 0.1776 - accuracy: 0.9289\n",
      "Epoch 74/100\n",
      "219/219 [==============================] - 0s 1ms/step - loss: 0.1776 - accuracy: 0.9274\n",
      "Epoch 75/100\n",
      "219/219 [==============================] - 0s 1ms/step - loss: 0.1776 - accuracy: 0.9267\n",
      "Epoch 76/100\n",
      "219/219 [==============================] - 0s 1ms/step - loss: 0.1778 - accuracy: 0.9290\n",
      "Epoch 77/100\n",
      "219/219 [==============================] - 0s 1ms/step - loss: 0.1768 - accuracy: 0.9271\n",
      "Epoch 78/100\n",
      "219/219 [==============================] - 0s 1ms/step - loss: 0.1776 - accuracy: 0.9290\n",
      "Epoch 79/100\n",
      "219/219 [==============================] - 0s 1ms/step - loss: 0.1775 - accuracy: 0.9274\n",
      "Epoch 80/100\n",
      "219/219 [==============================] - 0s 1ms/step - loss: 0.1773 - accuracy: 0.9281\n",
      "Epoch 81/100\n",
      "219/219 [==============================] - 0s 997us/step - loss: 0.1774 - accuracy: 0.9297\n",
      "Epoch 82/100\n",
      "219/219 [==============================] - 0s 1ms/step - loss: 0.1772 - accuracy: 0.9283\n",
      "Epoch 83/100\n",
      "219/219 [==============================] - 0s 1ms/step - loss: 0.1772 - accuracy: 0.9281\n",
      "Epoch 84/100\n",
      "219/219 [==============================] - 0s 1ms/step - loss: 0.1775 - accuracy: 0.9264\n",
      "Epoch 85/100\n",
      "219/219 [==============================] - 0s 1ms/step - loss: 0.1771 - accuracy: 0.9290\n",
      "Epoch 86/100\n",
      "219/219 [==============================] - 0s 1ms/step - loss: 0.1773 - accuracy: 0.9281\n",
      "Epoch 87/100\n",
      "219/219 [==============================] - 0s 1ms/step - loss: 0.1774 - accuracy: 0.9273\n",
      "Epoch 88/100\n",
      "219/219 [==============================] - 0s 1ms/step - loss: 0.1774 - accuracy: 0.9269\n",
      "Epoch 89/100\n",
      "219/219 [==============================] - 0s 992us/step - loss: 0.1774 - accuracy: 0.9290\n",
      "Epoch 90/100\n",
      "219/219 [==============================] - 0s 1ms/step - loss: 0.1771 - accuracy: 0.9277\n",
      "Epoch 91/100\n",
      "219/219 [==============================] - 0s 1ms/step - loss: 0.1776 - accuracy: 0.9277\n",
      "Epoch 92/100\n",
      "219/219 [==============================] - 0s 1ms/step - loss: 0.1772 - accuracy: 0.9287\n",
      "Epoch 93/100\n",
      "219/219 [==============================] - 0s 1ms/step - loss: 0.1767 - accuracy: 0.9281\n",
      "Epoch 94/100\n",
      "219/219 [==============================] - 0s 1ms/step - loss: 0.1775 - accuracy: 0.9274\n",
      "Epoch 95/100\n",
      "219/219 [==============================] - 0s 1ms/step - loss: 0.1770 - accuracy: 0.9276\n",
      "Epoch 96/100\n",
      "219/219 [==============================] - 0s 1ms/step - loss: 0.1770 - accuracy: 0.9271\n",
      "Epoch 97/100\n",
      "219/219 [==============================] - 0s 1ms/step - loss: 0.1776 - accuracy: 0.9281\n",
      "Epoch 98/100\n",
      "219/219 [==============================] - 0s 1ms/step - loss: 0.1775 - accuracy: 0.9279\n",
      "Epoch 99/100\n",
      "219/219 [==============================] - 0s 1ms/step - loss: 0.1769 - accuracy: 0.9283\n",
      "Epoch 100/100\n",
      "219/219 [==============================] - 0s 990us/step - loss: 0.1768 - accuracy: 0.9289\n"
     ]
    },
    {
     "data": {
      "text/plain": [
       "<keras.callbacks.History at 0x7fcd98d6f760>"
      ]
     },
     "execution_count": 54,
     "metadata": {},
     "output_type": "execute_result"
    }
   ],
   "source": [
    "model.fit(x_train, y_train, epochs=100)"
   ]
  },
  {
   "cell_type": "markdown",
   "id": "fa270b1a-d42b-4bf1-bb53-c8ecf83595d9",
   "metadata": {},
   "source": [
    "Terakhir, jangan lupa untuk mengevaluasi model Anda dan melihat apakah model Anda underfit atau overfit. Untuk melihat loss dan akurasi model pada data test, gunakan fungsi evaluate pada model. Fungsi Evaluate mengembalikan 2 nilai. Yang pertama adalah nilai loss, dan yang kedua adalah nilai akurasinya."
   ]
  },
  {
   "cell_type": "code",
   "execution_count": 55,
   "id": "7c178052-d239-494d-8205-b63fb4a37008",
   "metadata": {},
   "outputs": [
    {
     "name": "stdout",
     "output_type": "stream",
     "text": [
      "94/94 [==============================] - 0s 904us/step - loss: 0.1794 - accuracy: 0.9263\n"
     ]
    },
    {
     "data": {
      "text/plain": [
       "[0.17937064170837402, 0.9263333082199097]"
      ]
     },
     "execution_count": 55,
     "metadata": {},
     "output_type": "execute_result"
    }
   ],
   "source": [
    "model.evaluate(x_test, y_test)"
   ]
  },
  {
   "cell_type": "markdown",
   "id": "afc35431-4352-408b-bc01-01c090ea1ed1",
   "metadata": {},
   "source": [
    "# Membuat dan Melatih Model untuk Klasifikasi Banyak Kelas\n",
    "Pada submodul kali ini kita akan melanjutkan dengan pengembangan model jst untuk klasifikasi multi-kelas. Aplikasi dari klasifikasi multi kelas sangat banyak, lebih banyak dari klasifikasi biner. Contohnya seperti produk-produk pada toko online dan program pengenalan wajah. Tentu terdapat lebih dari 2 jenis wajah manusia di bumi ini bukan?\n",
    "\n",
    "Nah langsung saja kita mulai latihan kita. Pada kelas sebelumnya kita telah belajar mengklasifikasi dataset iris menggunakan decision tree. Di submodul ini kita akan belajar menggunakan jst untuk mengklasifikasikan spesies bunga iris. Silahkan unduh data di tautan berikut dan jangan lupa masukkan ke dalam Colaboratory.\n",
    "\n",
    "Pertama impor library yang dibutuhkan untuk latihan kita."
   ]
  },
  {
   "cell_type": "code",
   "execution_count": 2,
   "id": "fbced385-fe75-4eee-b641-7eee1be767ce",
   "metadata": {},
   "outputs": [],
   "source": [
    "import pandas as pd \n",
    "from sklearn import preprocessing\n",
    "from sklearn.model_selection import train_test_split\n",
    "from keras.models import Sequential\n",
    "from keras.layers import Dense"
   ]
  },
  {
   "cell_type": "markdown",
   "id": "44b74c4e-3917-48fc-bb39-5dd294bee21f",
   "metadata": {},
   "source": [
    "kemudian kita gunakan fungsi read_csv() untuk mengubah dataset menjadi pandas dataframe. untuk menampilkan dataframe kita hanya perlu menulis nama dari dataframe kita"
   ]
  },
  {
   "cell_type": "code",
   "execution_count": 3,
   "id": "18e22a38-7a07-4432-ae4f-5afd12eac72c",
   "metadata": {},
   "outputs": [
    {
     "data": {
      "text/html": [
       "<div>\n",
       "<style scoped>\n",
       "    .dataframe tbody tr th:only-of-type {\n",
       "        vertical-align: middle;\n",
       "    }\n",
       "\n",
       "    .dataframe tbody tr th {\n",
       "        vertical-align: top;\n",
       "    }\n",
       "\n",
       "    .dataframe thead th {\n",
       "        text-align: right;\n",
       "    }\n",
       "</style>\n",
       "<table border=\"1\" class=\"dataframe\">\n",
       "  <thead>\n",
       "    <tr style=\"text-align: right;\">\n",
       "      <th></th>\n",
       "      <th>Id</th>\n",
       "      <th>SepalLengthCm</th>\n",
       "      <th>SepalWidthCm</th>\n",
       "      <th>PetalLengthCm</th>\n",
       "      <th>PetalWidthCm</th>\n",
       "      <th>Species</th>\n",
       "    </tr>\n",
       "  </thead>\n",
       "  <tbody>\n",
       "    <tr>\n",
       "      <th>0</th>\n",
       "      <td>1</td>\n",
       "      <td>5.1</td>\n",
       "      <td>3.5</td>\n",
       "      <td>1.4</td>\n",
       "      <td>0.2</td>\n",
       "      <td>Iris-setosa</td>\n",
       "    </tr>\n",
       "    <tr>\n",
       "      <th>1</th>\n",
       "      <td>2</td>\n",
       "      <td>4.9</td>\n",
       "      <td>3.0</td>\n",
       "      <td>1.4</td>\n",
       "      <td>0.2</td>\n",
       "      <td>Iris-setosa</td>\n",
       "    </tr>\n",
       "    <tr>\n",
       "      <th>2</th>\n",
       "      <td>3</td>\n",
       "      <td>4.7</td>\n",
       "      <td>3.2</td>\n",
       "      <td>1.3</td>\n",
       "      <td>0.2</td>\n",
       "      <td>Iris-setosa</td>\n",
       "    </tr>\n",
       "    <tr>\n",
       "      <th>3</th>\n",
       "      <td>4</td>\n",
       "      <td>4.6</td>\n",
       "      <td>3.1</td>\n",
       "      <td>1.5</td>\n",
       "      <td>0.2</td>\n",
       "      <td>Iris-setosa</td>\n",
       "    </tr>\n",
       "    <tr>\n",
       "      <th>4</th>\n",
       "      <td>5</td>\n",
       "      <td>5.0</td>\n",
       "      <td>3.6</td>\n",
       "      <td>1.4</td>\n",
       "      <td>0.2</td>\n",
       "      <td>Iris-setosa</td>\n",
       "    </tr>\n",
       "    <tr>\n",
       "      <th>...</th>\n",
       "      <td>...</td>\n",
       "      <td>...</td>\n",
       "      <td>...</td>\n",
       "      <td>...</td>\n",
       "      <td>...</td>\n",
       "      <td>...</td>\n",
       "    </tr>\n",
       "    <tr>\n",
       "      <th>145</th>\n",
       "      <td>146</td>\n",
       "      <td>6.7</td>\n",
       "      <td>3.0</td>\n",
       "      <td>5.2</td>\n",
       "      <td>2.3</td>\n",
       "      <td>Iris-virginica</td>\n",
       "    </tr>\n",
       "    <tr>\n",
       "      <th>146</th>\n",
       "      <td>147</td>\n",
       "      <td>6.3</td>\n",
       "      <td>2.5</td>\n",
       "      <td>5.0</td>\n",
       "      <td>1.9</td>\n",
       "      <td>Iris-virginica</td>\n",
       "    </tr>\n",
       "    <tr>\n",
       "      <th>147</th>\n",
       "      <td>148</td>\n",
       "      <td>6.5</td>\n",
       "      <td>3.0</td>\n",
       "      <td>5.2</td>\n",
       "      <td>2.0</td>\n",
       "      <td>Iris-virginica</td>\n",
       "    </tr>\n",
       "    <tr>\n",
       "      <th>148</th>\n",
       "      <td>149</td>\n",
       "      <td>6.2</td>\n",
       "      <td>3.4</td>\n",
       "      <td>5.4</td>\n",
       "      <td>2.3</td>\n",
       "      <td>Iris-virginica</td>\n",
       "    </tr>\n",
       "    <tr>\n",
       "      <th>149</th>\n",
       "      <td>150</td>\n",
       "      <td>5.9</td>\n",
       "      <td>3.0</td>\n",
       "      <td>5.1</td>\n",
       "      <td>1.8</td>\n",
       "      <td>Iris-virginica</td>\n",
       "    </tr>\n",
       "  </tbody>\n",
       "</table>\n",
       "<p>150 rows × 6 columns</p>\n",
       "</div>"
      ],
      "text/plain": [
       "      Id  SepalLengthCm  SepalWidthCm  PetalLengthCm  PetalWidthCm  \\\n",
       "0      1            5.1           3.5            1.4           0.2   \n",
       "1      2            4.9           3.0            1.4           0.2   \n",
       "2      3            4.7           3.2            1.3           0.2   \n",
       "3      4            4.6           3.1            1.5           0.2   \n",
       "4      5            5.0           3.6            1.4           0.2   \n",
       "..   ...            ...           ...            ...           ...   \n",
       "145  146            6.7           3.0            5.2           2.3   \n",
       "146  147            6.3           2.5            5.0           1.9   \n",
       "147  148            6.5           3.0            5.2           2.0   \n",
       "148  149            6.2           3.4            5.4           2.3   \n",
       "149  150            5.9           3.0            5.1           1.8   \n",
       "\n",
       "            Species  \n",
       "0       Iris-setosa  \n",
       "1       Iris-setosa  \n",
       "2       Iris-setosa  \n",
       "3       Iris-setosa  \n",
       "4       Iris-setosa  \n",
       "..              ...  \n",
       "145  Iris-virginica  \n",
       "146  Iris-virginica  \n",
       "147  Iris-virginica  \n",
       "148  Iris-virginica  \n",
       "149  Iris-virginica  \n",
       "\n",
       "[150 rows x 6 columns]"
      ]
     },
     "execution_count": 3,
     "metadata": {},
     "output_type": "execute_result"
    }
   ],
   "source": [
    "df = pd.read_csv('iris.csv')\n",
    "df"
   ]
  },
  {
   "cell_type": "code",
   "execution_count": null,
   "id": "468d43f2-c280-438c-a9c4-03e9a52abd08",
   "metadata": {},
   "outputs": [],
   "source": []
  }
 ],
 "metadata": {
  "kernelspec": {
   "display_name": "Python 3",
   "language": "python",
   "name": "python3"
  },
  "language_info": {
   "codemirror_mode": {
    "name": "ipython",
    "version": 3
   },
   "file_extension": ".py",
   "mimetype": "text/x-python",
   "name": "python",
   "nbconvert_exporter": "python",
   "pygments_lexer": "ipython3",
   "version": "3.8.8"
  }
 },
 "nbformat": 4,
 "nbformat_minor": 5
}
